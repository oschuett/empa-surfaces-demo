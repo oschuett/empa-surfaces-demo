{
 "cells": [
  {
   "cell_type": "markdown",
   "metadata": {},
   "source": [
    "# Loading AiiDA Database ..."
   ]
  },
  {
   "cell_type": "code",
   "execution_count": null,
   "metadata": {},
   "outputs": [],
   "source": [
    "! sudo service postgresql start"
   ]
  },
  {
   "cell_type": "code",
   "execution_count": null,
   "metadata": {},
   "outputs": [],
   "source": [
    "! sudo -u postgres psql -d template1 -c \"CREATE USER aiida WITH PASSWORD 'aiida_db_passwd';\"\n",
    "! sudo -u postgres psql -d template1 -c \"CREATE DATABASE aiidadb OWNER aiida;\"\n",
    "! sudo -u postgres psql -d template1 -c \"GRANT ALL PRIVILEGES ON DATABASE aiidadb to aiida;\""
   ]
  },
  {
   "cell_type": "code",
   "execution_count": null,
   "metadata": {},
   "outputs": [],
   "source": [
    "# download and import aiida db dump\n",
    "! wget https://storage.googleapis.com/oles_stuff/aiidadb.sql.gz\n",
    "! gunzip aiidadb.sql.gz\n",
    "! sudo -u postgres psql -d aiidadb -f aiidadb.sql\n",
    "! rm aiidadb.sql"
   ]
  },
  {
   "cell_type": "code",
   "execution_count": null,
   "metadata": {},
   "outputs": [],
   "source": [
    "# download and import aiida repository\n",
    "! wget https://storage.googleapis.com/oles_stuff/aiida_repository.tgz\n",
    "! tar -xzf aiida_repository.tgz\n",
    "! rm aiida_repository.tgz"
   ]
  },
  {
   "cell_type": "code",
   "execution_count": null,
   "metadata": {},
   "outputs": [],
   "source": [
    "# create aiida profile\n",
    "! verdi setup                               \\\n",
    "      --non-interactive                     \\\n",
    "      --email aiida@localhost               \\\n",
    "      --first-name Some                     \\\n",
    "      --last-name Body                      \\\n",
    "      --institution XYZ                     \\\n",
    "      --backend django                      \\\n",
    "      --db_user aiida                       \\\n",
    "      --db_pass aiida_db_passwd             \\\n",
    "      --db_name aiidadb                     \\\n",
    "      --db_host localhost                   \\\n",
    "      --db_port 5432                        \\\n",
    "      --repo /home/ubuntu/aiida_repository  \\\n",
    "      default\n",
    "\n",
    "# enable aiida profile\n",
    "!verdi profile setdefault verdi default "
   ]
  },
  {
   "cell_type": "code",
   "execution_count": null,
   "metadata": {},
   "outputs": [],
   "source": [
    "%%javascript\n",
    "window.location = \"./apps/surfaces/nanoribbon/search.ipynb\""
   ]
  }
 ],
 "metadata": {
  "kernelspec": {
   "display_name": "Python 2",
   "language": "python",
   "name": "python2"
  },
  "language_info": {
   "codemirror_mode": {
    "name": "ipython",
    "version": 2
   },
   "file_extension": ".py",
   "mimetype": "text/x-python",
   "name": "python",
   "nbconvert_exporter": "python",
   "pygments_lexer": "ipython2",
   "version": "2.7.13"
  }
 },
 "nbformat": 4,
 "nbformat_minor": 2
}
